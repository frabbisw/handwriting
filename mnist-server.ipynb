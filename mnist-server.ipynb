{
 "cells": [
  {
   "cell_type": "code",
   "execution_count": 14,
   "metadata": {},
   "outputs": [],
   "source": [
    "import pickle\n",
    "import matplotlib.pyplot as plt"
   ]
  },
  {
   "cell_type": "code",
   "execution_count": 15,
   "metadata": {},
   "outputs": [],
   "source": [
    "import torch\n",
    "import torchvision"
   ]
  },
  {
   "cell_type": "code",
   "execution_count": 16,
   "metadata": {},
   "outputs": [],
   "source": [
    "import torch.nn as nn\n",
    "import torch.nn.functional as F\n",
    "import torch.optim as optim\n",
    "from torchvision import transforms"
   ]
  },
  {
   "cell_type": "code",
   "execution_count": 17,
   "metadata": {},
   "outputs": [],
   "source": [
    "from PIL import Image\n",
    "import numpy as np\n",
    "import PIL.ImageOps"
   ]
  },
  {
   "cell_type": "code",
   "execution_count": 18,
   "metadata": {},
   "outputs": [],
   "source": [
    "from werkzeug.wrappers import Request, Response\n",
    "from flask import Flask\n",
    "from flask import render_template\n",
    "from flask import request\n",
    "from werkzeug.serving import run_simple"
   ]
  },
  {
   "cell_type": "code",
   "execution_count": 19,
   "metadata": {},
   "outputs": [],
   "source": [
    "from io import BytesIO\n",
    "import base64"
   ]
  },
  {
   "cell_type": "code",
   "execution_count": 20,
   "metadata": {},
   "outputs": [],
   "source": [
    "class Net(nn.Module):\n",
    "    def __init__(self):\n",
    "        super(Net, self).__init__()\n",
    "        self.conv1 = nn.Conv2d(1, 10, kernel_size=5)\n",
    "        self.conv2 = nn.Conv2d(10, 20, kernel_size=5)\n",
    "        self.conv2_drop = nn.Dropout2d()\n",
    "        self.fc1 = nn.Linear(320, 50)\n",
    "        self.fc2 = nn.Linear(50, 10)\n",
    "\n",
    "    def forward(self, x):\n",
    "        x = F.relu(F.max_pool2d(self.conv1(x), 2))\n",
    "        x = F.relu(F.max_pool2d(self.conv2_drop(self.conv2(x)), 2))\n",
    "        x = x.view(-1, 320)\n",
    "        x = F.relu(self.fc1(x))\n",
    "        x = F.dropout(x, training=self.training)\n",
    "        x = self.fc2(x)\n",
    "        return F.log_softmax(x)"
   ]
  },
  {
   "cell_type": "code",
   "execution_count": 21,
   "metadata": {},
   "outputs": [],
   "source": [
    "network = pickle.load(open(\"network.p\", \"rb\"))"
   ]
  },
  {
   "cell_type": "code",
   "execution_count": 22,
   "metadata": {},
   "outputs": [],
   "source": [
    "def predict(im):\n",
    "    im = im.resize((28,28))\n",
    "    im = im.convert('L')\n",
    "        \n",
    "    pixels = im.load()\n",
    "    \n",
    "    for i in range(im.size[0]): # for every pixel:\n",
    "        for j in range(im.size[1]):\n",
    "            if pixels[i,j] < 100:\n",
    "                pixels[i,j] = 255\n",
    "            else:\n",
    "                pixels[i,j] = 0\n",
    "            #pixels[i,j] = 255-pixels[i,j]\n",
    "\n",
    "    plt.imshow(im)\n",
    "            \n",
    "    trans1 = transforms.ToTensor()\n",
    "    trans2 = transforms.Normalize((0.1307,), (0.3081,))\n",
    "    im = trans2(trans1(im))\n",
    "    \n",
    "    hello = im.numpy()\n",
    "    hello = np.expand_dims(hello, axis=0)\n",
    "    im = torch.from_numpy(hello)\n",
    "    \n",
    "    output = network(im)\n",
    "        \n",
    "    print(output)\n",
    "        \n",
    "    return output.data.max(1, keepdim=True)[1][0].item()"
   ]
  },
  {
   "cell_type": "code",
   "execution_count": 23,
   "metadata": {},
   "outputs": [
    {
     "name": "stdout",
     "output_type": "stream",
     "text": [
      "tensor([[ -4.3670, -11.4438,  -9.7494, -10.9486, -10.9044,  -1.4255,  -0.5118,\n",
      "         -14.8601,  -1.9158,  -8.7960]], grad_fn=<LogSoftmaxBackward>)\n",
      "6\n"
     ]
    },
    {
     "name": "stderr",
     "output_type": "stream",
     "text": [
      "/home/rabbi/.local/lib/python3.5/site-packages/ipykernel_launcher.py:17: UserWarning: Implicit dimension choice for log_softmax has been deprecated. Change the call to include dim=X as an argument.\n"
     ]
    },
    {
     "data": {
      "image/png": "[encoded data removed]",
      "text/plain": [
       "<Figure size 432x288 with 1 Axes>"
      ]
     },
     "metadata": {},
     "output_type": "display_data"
    }
   ],
   "source": [
    "im = Image.open(\"6.jpg\")\n",
    "print(predict(im))"
   ]
  },
  {
   "cell_type": "code",
   "execution_count": 24,
   "metadata": {},
   "outputs": [],
   "source": [
    "app = Flask(__name__)"
   ]
  },
  {
   "cell_type": "code",
   "execution_count": 25,
   "metadata": {},
   "outputs": [],
   "source": [
    "@app.route('/predict_digit', methods=['POST'])\n",
    "def predict_digit():\n",
    "    encoded = request.form['encoded']\n",
    "    \n",
    "    im = Image.open(BytesIO(base64.b64decode(encoded)))\n",
    "            \n",
    "    return str(predict(im))"
   ]
  },
  {
   "cell_type": "code",
   "execution_count": null,
   "metadata": {
    "scrolled": true
   },
   "outputs": [
    {
     "name": "stderr",
     "output_type": "stream",
     "text": [
      " * Running on http://0.0.0.0:9000/ (Press CTRL+C to quit)\n",
      "/home/rabbi/.local/lib/python3.5/site-packages/ipykernel_launcher.py:17: UserWarning: Implicit dimension choice for log_softmax has been deprecated. Change the call to include dim=X as an argument.\n",
      "192.168.0.106 - - [14/Nov/2018 01:06:51] \"\u001b[37mPOST /predict_digit HTTP/1.1\u001b[0m\" 200 -\n"
     ]
    },
    {
     "name": "stdout",
     "output_type": "stream",
     "text": [
      "tensor([[ -3.8563, -18.8443, -14.3077, -14.4287, -20.7476,  -0.0580,  -3.4753,\n",
      "         -16.9230,  -5.4697, -12.3260]], grad_fn=<LogSoftmaxBackward>)\n"
     ]
    },
    {
     "name": "stderr",
     "output_type": "stream",
     "text": [
      "192.168.0.106 - - [14/Nov/2018 01:07:13] \"\u001b[37mPOST /predict_digit HTTP/1.1\u001b[0m\" 200 -\n"
     ]
    },
    {
     "name": "stdout",
     "output_type": "stream",
     "text": [
      "tensor([[ -3.8739, -15.8167, -12.8065, -13.3994, -13.4677,  -2.8433,  -0.0833,\n",
      "         -15.1383,  -7.0040, -10.1579]], grad_fn=<LogSoftmaxBackward>)\n"
     ]
    },
    {
     "name": "stderr",
     "output_type": "stream",
     "text": [
      "192.168.0.106 - - [14/Nov/2018 01:08:16] \"\u001b[37mPOST /predict_digit HTTP/1.1\u001b[0m\" 200 -\n"
     ]
    },
    {
     "name": "stdout",
     "output_type": "stream",
     "text": [
      "tensor([[-14.2894, -10.1499, -10.0869,  -1.5889,  -3.4619,  -3.3720, -13.2224,\n",
      "         -13.4951,  -2.3336,  -0.4571]], grad_fn=<LogSoftmaxBackward>)\n"
     ]
    },
    {
     "name": "stderr",
     "output_type": "stream",
     "text": [
      "192.168.0.106 - - [14/Nov/2018 01:09:45] \"\u001b[37mPOST /predict_digit HTTP/1.1\u001b[0m\" 200 -\n"
     ]
    },
    {
     "name": "stdout",
     "output_type": "stream",
     "text": [
      "tensor([[-26.0324, -22.2529, -18.4604, -21.4242,  -0.0002, -19.9242, -17.4135,\n",
      "         -20.2821, -15.3882,  -8.4462]], grad_fn=<LogSoftmaxBackward>)\n"
     ]
    },
    {
     "name": "stderr",
     "output_type": "stream",
     "text": [
      "192.168.0.106 - - [14/Nov/2018 01:10:22] \"\u001b[37mPOST /predict_digit HTTP/1.1\u001b[0m\" 200 -\n"
     ]
    },
    {
     "name": "stdout",
     "output_type": "stream",
     "text": [
      "tensor([[-18.2941, -20.3638, -21.3381, -12.0697, -20.0332,  -0.0000, -13.7999,\n",
      "         -20.7096, -14.2839, -11.9303]], grad_fn=<LogSoftmaxBackward>)\n"
     ]
    }
   ],
   "source": [
    "if __name__ == '__main__':\n",
    "    run_simple('0.0.0.0', 9000, app)"
   ]
  },
  {
   "cell_type": "code",
   "execution_count": null,
   "metadata": {},
   "outputs": [],
   "source": []
  }
 ],
 "metadata": {
  "kernelspec": {
   "display_name": "Python 3",
   "language": "python",
   "name": "python3"
  }
 },
 "nbformat": 4,
 "nbformat_minor": 2
}
